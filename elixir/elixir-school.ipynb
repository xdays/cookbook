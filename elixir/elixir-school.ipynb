{
 "cells": [
  {
   "cell_type": "markdown",
   "metadata": {},
   "source": [
    "# Basic Type"
   ]
  },
  {
   "cell_type": "code",
   "execution_count": 1,
   "metadata": {},
   "outputs": [
    {
     "data": {
      "text/plain": [
       "\"Hello\""
      ]
     },
     "execution_count": 1,
     "metadata": {},
     "output_type": "execute_result"
    }
   ],
   "source": [
    "# integer\n",
    "i1 = 255\n",
    "i2 = 0b0110\n",
    "i3 = 0x1F\n",
    "# float\n",
    "f1 = 3.14\n",
    "f2 = 0.14\n",
    "f3 = 1.0e-10\n",
    "# bolean\n",
    "b1 = true\n",
    "b2 = false\n",
    "# atom\n",
    ":foo\n",
    ":bar\n",
    "# string\n",
    "s1 = \"Hello\""
   ]
  },
  {
   "cell_type": "markdown",
   "metadata": {},
   "source": [
    "# Operator"
   ]
  },
  {
   "cell_type": "code",
   "execution_count": 2,
   "metadata": {},
   "outputs": [
    {
     "name": "stdout",
     "output_type": "stream",
     "text": [
      "hello Sean\n",
      "hello Sean\n"
     ]
    },
    {
     "data": {
      "text/plain": [
       ":ok"
      ]
     },
     "execution_count": 2,
     "metadata": {},
     "output_type": "execute_result"
    }
   ],
   "source": [
    "# + - * /\n",
    "# div/2 and rem/2\n",
    "# || && !\n",
    "# == != === !== <= >= < >\n",
    "# number < atom < reference < function < port < pid < tuple < map < list < bitstring\n",
    "name = \"Sean\"\n",
    "IO.puts \"hello #{name}\"\n",
    "IO.puts \"hello \" <> name"
   ]
  },
  {
   "cell_type": "markdown",
   "metadata": {},
   "source": [
    "# Collection"
   ]
  },
  {
   "cell_type": "code",
   "execution_count": 3,
   "metadata": {},
   "outputs": [
    {
     "name": "stdout",
     "output_type": "stream",
     "text": [
      "1\n",
      "true\n",
      "bar\n",
      "bar\n",
      "true\n"
     ]
    },
    {
     "data": {
      "text/plain": [
       "%{:foo => \"bar\", :test => \"baz\", \"hello\" => :world}"
      ]
     },
     "execution_count": 3,
     "metadata": {},
     "output_type": "execute_result"
    }
   ],
   "source": [
    "# list\n",
    "list1 = [3.14, :pie, \"apple\"]\n",
    "list2 = [\"p\" | list1]\n",
    "list3 = [1, 2] ++ [3, 4]\n",
    "hd [1, 2, 3]\n",
    "tl [1, 2, 3]\n",
    "[head | tail] = [1, 2, 3]\n",
    "IO.puts head\n",
    "\n",
    "# tuple\n",
    "t1 = {3.14, :pie}\n",
    "File.read(\"/tmp/noexist\")\n",
    "\n",
    "# keyword list, a special list\n",
    "kl1 = [foo: \"bar\", hello: \"world\"]\n",
    "kl2 = [{:foo, \"bar\"}, {:hello, \"world\"}]\n",
    "IO.puts kl1 === kl2\n",
    "\n",
    "# map\n",
    "map = %{:foo => \"bar\", \"hello\" => :world}\n",
    "IO.puts(map[:foo])\n",
    "IO.puts(map.foo)\n",
    "IO.puts %{foo: \"bar\", hello: \"world\"} == %{:foo => \"bar\", :hello => \"world\"}\n",
    "Map.put(map, :test, \"baz\")"
   ]
  },
  {
   "cell_type": "code",
   "execution_count": null,
   "metadata": {},
   "outputs": [],
   "source": [
    "# Enum"
   ]
  },
  {
   "cell_type": "code",
   "execution_count": null,
   "metadata": {},
   "outputs": [],
   "source": [
    "Enum.__info__(:functions) |> Enum.each(fn({function, arity}) -> IO.puts \"#{function}/#{arity}\" end)\n",
    "\n",
    "Enum.reduce([1, 2, 3], 10, fn(x, acc) -> x + acc end)"
   ]
  },
  {
   "cell_type": "markdown",
   "metadata": {},
   "source": [
    "# Pattern Match"
   ]
  },
  {
   "cell_type": "code",
   "execution_count": 3,
   "metadata": {},
   "outputs": [
    {
     "name": "stdout",
     "output_type": "stream",
     "text": [
      "\u0002\u0003\n",
      "2\n",
      "world\n"
     ]
    },
    {
     "data": {
      "text/plain": [
       ":ok"
      ]
     },
     "execution_count": 3,
     "metadata": {},
     "output_type": "execute_result"
    }
   ],
   "source": [
    "# basic match\n",
    "list = [1,2,3]\n",
    "[1,2,3] = list\n",
    "[1 | tail] = list\n",
    "IO.puts(tail)\n",
    "\n",
    "# pin match\n",
    "x = 1\n",
    "{x, ^x} = {2, 1}\n",
    "IO.puts(x)\n",
    "\n",
    "key = \"hello\"\n",
    "%{^key => value} = %{\"hello\" => \"world\"}\n",
    "IO.puts(value)"
   ]
  },
  {
   "cell_type": "markdown",
   "metadata": {},
   "source": [
    "# Control"
   ]
  },
  {
   "cell_type": "code",
   "execution_count": 5,
   "metadata": {},
   "outputs": [
    {
     "data": {
      "text/plain": [
       "\"This is true\""
      ]
     },
     "execution_count": 5,
     "metadata": {},
     "output_type": "execute_result"
    }
   ],
   "source": [
    "if String.valid?(\"Hello\") do\n",
    "  \"Valid string\"\n",
    "else\n",
    "  \"Invalid string\"\n",
    "end\n",
    "\n",
    "unless is_integer(\"hello\") do\n",
    "  \"Not an Int\"\n",
    "end\n",
    "\n",
    "case {:ok, \"hello world\"} do\n",
    "  {:ok, result} -> result\n",
    "  {:error} -> \"Uh oh!\"\n",
    "  _ -> \"Catch all\"\n",
    "end\n",
    "\n",
    "case {1, 2, 3} do\n",
    "  {1, x, 3} when x > 0 -> # guard\n",
    "    \"Will match\"\n",
    "  _ ->\n",
    "    \"Won't match\"\n",
    "end\n",
    "\n",
    "cond do\n",
    "  1 + 1 == 3 ->\n",
    "    \"This will not be true\"\n",
    "  1 + 1 == 2 ->\n",
    "    \"This is true\"\n",
    "end"
   ]
  },
  {
   "cell_type": "markdown",
   "metadata": {},
   "source": [
    "# Function"
   ]
  },
  {
   "cell_type": "code",
   "execution_count": 6,
   "metadata": {},
   "outputs": [
    {
     "name": "stdout",
     "output_type": "stream",
     "text": [
      "Handling result 1\n"
     ]
    },
    {
     "data": {
      "text/plain": [
       "\"hello, Sean, Steve\""
      ]
     },
     "execution_count": 6,
     "metadata": {},
     "output_type": "execute_result"
    }
   ],
   "source": [
    "# anonymous function\n",
    "sum = fn (a, b) -> a + b end\n",
    "sum.(2, 3)\n",
    "\n",
    "sum = &(&1 + &2)\n",
    "sum.(2, 3)\n",
    "\n",
    "# pattern match\n",
    "handler = fn\n",
    "  {:ok, result} -> IO.puts \"Handling result #{result}\"\n",
    "  {:ok, _} -> IO.puts \"Never match\"\n",
    "  {:error} -> IO.puts \"Error happens\"\n",
    "end\n",
    "\n",
    "handler.({:ok, 1})\n",
    "\n",
    "defmodule Greeter do\n",
    "  def hello(names) when is_list(names) do\n",
    "    names |> Enum.join(\", \") |> hello\n",
    "  end\n",
    "\n",
    "  def hello(name) when is_binary(name) do\n",
    "    phrase() <> name\n",
    "  end\n",
    "  \n",
    "  defp phrase, do: \"hello, \"\n",
    "end\n",
    "Greeter.hello [\"Sean\", \"Steve\"]\n",
    "\n",
    "## \\\\ default parameter"
   ]
  },
  {
   "cell_type": "markdown",
   "metadata": {},
   "source": [
    "# Pipe Operator"
   ]
  },
  {
   "cell_type": "code",
   "execution_count": 8,
   "metadata": {},
   "outputs": [
    {
     "data": {
      "text/plain": [
       "[\"ELIXIR\", \"ROCKS\"]"
      ]
     },
     "execution_count": 8,
     "metadata": {},
     "output_type": "execute_result"
    }
   ],
   "source": [
    "\"Elixir rocks\" |> String.upcase() |> String.split()"
   ]
  },
  {
   "cell_type": "markdown",
   "metadata": {},
   "source": [
    "# Module"
   ]
  },
  {
   "cell_type": "code",
   "execution_count": 9,
   "metadata": {},
   "outputs": [
    {
     "data": {
      "text/plain": [
       "\"Hello xdays.\""
      ]
     },
     "execution_count": 9,
     "metadata": {},
     "output_type": "execute_result"
    }
   ],
   "source": [
    "defmodule Example1 do\n",
    "  def greeting(name) do\n",
    "    \"Hello #{name}.\"\n",
    "  end\n",
    "end\n",
    "Example1.greeting \"xdays\""
   ]
  },
  {
   "cell_type": "code",
   "execution_count": 10,
   "metadata": {},
   "outputs": [
    {
     "data": {
      "text/plain": [
       "\"Hello xdays.\""
      ]
     },
     "execution_count": 10,
     "metadata": {},
     "output_type": "execute_result"
    }
   ],
   "source": [
    "defmodule Example2 do\n",
    "  @greeting \"Hello\"\n",
    "\n",
    "  def greeting(name) do\n",
    "    ~s(#{@greeting} #{name}.)\n",
    "  end\n",
    "end\n",
    "Example2.greeting \"xdays\""
   ]
  },
  {
   "cell_type": "code",
   "execution_count": null,
   "metadata": {},
   "outputs": [],
   "source": [
    "# Structure\n",
    "defmodule Example3.User do\n",
    "  defstruct name: \"Sean\", roles: []\n",
    "end\n",
    "\n",
    "user0 = %Example3.User{name: \"xdays\"}\n",
    "inspect(user)\n",
    "user1 = %Example3.User{}\n",
    "user2 = %Example3.User{name: \"Steve\"}\n",
    "\n",
    "inspect(user2)\n",
    "sean = %{user2 | name: \"Sean\"}\n",
    "IO.puts(sean.name)"
   ]
  },
  {
   "cell_type": "markdown",
   "metadata": {},
   "source": [
    "# Composition"
   ]
  },
  {
   "cell_type": "code",
   "execution_count": 1,
   "metadata": {},
   "outputs": [
    {
     "name": "stdout",
     "output_type": "stream",
     "text": [
      "2\n"
     ]
    },
    {
     "data": {
      "text/plain": [
       "\"Hola, Sean\""
      ]
     },
     "execution_count": 1,
     "metadata": {},
     "output_type": "execute_result"
    }
   ],
   "source": [
    "# alias\n",
    "defmodule Sayings.Greetings do\n",
    "  def basic(name), do: \"Hi, #{name}\"\n",
    "end\n",
    "\n",
    "defmodule Example4 do\n",
    "  alias Sayings.Greetings, as: Hi\n",
    "\n",
    "  def greeting(name), do: Hi.basic(name)\n",
    "end\n",
    "\n",
    "\n",
    "# import\n",
    "# import function and macro form module(can filter with :only and :except)\n",
    "\n",
    "import List, only: [last: 1]\n",
    "\n",
    "IO.puts(last([1,2]))\n",
    "\n",
    "# require\n",
    "# use macro from other module\n",
    "\n",
    "# use\n",
    "defmodule Hello do\n",
    "  defmacro __using__(opts) do\n",
    "    greeting = Keyword.get(opts, :greeting, \"Hi\")\n",
    "\n",
    "    quote do\n",
    "      def hello(name), do: unquote(greeting) <> \", \" <> name\n",
    "    end\n",
    "  end\n",
    "end\n",
    "defmodule Example do\n",
    "  use Hello, greeting: \"Hola\"\n",
    "end\n",
    "Example.hello(\"Sean\")"
   ]
  },
  {
   "cell_type": "markdown",
   "metadata": {},
   "source": [
    "# mix"
   ]
  },
  {
   "cell_type": "code",
   "execution_count": null,
   "metadata": {},
   "outputs": [],
   "source": [
    "mix new\n",
    "iex -S mix\n",
    "mix compile\n",
    "mix deps.get\n",
    "MIX_ENV=prod mix compile"
   ]
  },
  {
   "cell_type": "markdown",
   "metadata": {},
   "source": [
    "# Sigil"
   ]
  },
  {
   "cell_type": "code",
   "execution_count": 6,
   "metadata": {},
   "outputs": [
    {
     "name": "stdout",
     "output_type": "stream",
     "text": [
      "a\n",
      "b\n",
      "a\n",
      "b\n",
      "[\"\\\"I\", \"am\", \"a\", \"poor\", \"man\\\"\"]\n"
     ]
    },
    {
     "data": {
      "text/plain": [
       "true"
      ]
     },
     "execution_count": 6,
     "metadata": {},
     "output_type": "execute_result"
    }
   ],
   "source": [
    "# char list\n",
    "IO.puts ~c{a\\nb}\n",
    "\n",
    "# string\n",
    "IO.puts ~s{a\\nb}\n",
    "\n",
    "# regexp\n",
    "re = ~r/elixir/i\n",
    "\"Elixir\" =~ re\n",
    "\n",
    "# word list\n",
    "IO.inspect(~w{\"I am a poor man\"})\n",
    "\n",
    "# native datetime\n",
    "NaiveDateTime.from_iso8601(\"2015-01-23 23:50:07\") == {:ok, ~N[2015-01-23 23:50:07]}\n",
    "\n",
    "# datetime(with timezone)\n",
    "DateTime.from_iso8601(\"2015-01-23 23:50:07Z\") == {:ok, ~U[2015-01-23 23:50:07Z], 0}"
   ]
  },
  {
   "cell_type": "markdown",
   "metadata": {},
   "source": [
    "# Documentation"
   ]
  },
  {
   "cell_type": "markdown",
   "metadata": {},
   "source": [
    "1. inline document\n",
    "2. `@moduledoc`\n",
    "3. `@doc` function level doc\n",
    "\n",
    "add exdoc deps\n",
    "\n",
    "```elixir\n",
    "{:ex_doc, \"~> 0.21\", only: :dev, runtime: false}\n",
    "```\n",
    "\n",
    "```\n",
    "mix deps.get\n",
    "mix docs\n",
    "```"
   ]
  },
  {
   "cell_type": "markdown",
   "metadata": {},
   "source": [
    "# Testing"
   ]
  },
  {
   "cell_type": "markdown",
   "metadata": {},
   "source": [
    "## ExUnit\n",
    "\n",
    "1. `assert`\n",
    "2. `refute`\n",
    "3. `assert_raise`\n",
    "4. `assert_receive`\n",
    "5. `capture_io`\n",
    "6. `capture_log`\n",
    "\n",
    "## Setup\n",
    "\n",
    "1. `setup`\n",
    "2. `setup_all`\n",
    "\n",
    "test case can use `state` returned from `setup`\n",
    "\n",
    "## Mock\n",
    "\n",
    "Mock is discouraged"
   ]
  },
  {
   "cell_type": "markdown",
   "metadata": {},
   "source": [
    "# Comprehensions"
   ]
  },
  {
   "cell_type": "code",
   "execution_count": 3,
   "metadata": {},
   "outputs": [
    {
     "name": "stdout",
     "output_type": "stream",
     "text": [
      "1 - 1\n",
      "2 - 1\n",
      "2 - 2\n",
      "3 - 1\n",
      "3 - 2\n",
      "3 - 3\n",
      "4 - 1\n",
      "4 - 2\n",
      "4 - 3\n",
      "4 - 4\n"
     ]
    },
    {
     "data": {
      "text/plain": [
       "%{one: 1, three: 3, two: 2}"
      ]
     },
     "execution_count": 3,
     "metadata": {},
     "output_type": "execute_result"
    }
   ],
   "source": [
    "# basic\n",
    "\n",
    "list = [1,2,3,4,5]\n",
    "for x <- list, do: x*x # generator x <- list\n",
    "for {_key, val} <- [one: 1, two: 2, three: 3], do: val\n",
    "for {k, v} <- %{\"a\" => \"A\", \"b\" => \"B\"}, do: {k, v}\n",
    "for <<c <- \"hello\">>, do: <<c>>\n",
    "for {:ok, val} <- [ok: \"Hello\", error: \"Unknown\", ok: \"World\"], do: val\n",
    "\n",
    "# multi loop\n",
    "list = [1, 2, 3, 4]\n",
    "for n <- list, times <- 1..n, do: String.duplicate(\"*\", times)\n",
    "for n <- list, times <- 1..n, do: IO.puts \"#{n} - #{times}\"\n",
    "\n",
    "# filter\n",
    "import Integer\n",
    "for x <- 1..10, is_even(x), do: x\n",
    "\n",
    "# into\n",
    "for {k, v} <- [one: 1, two: 2, three: 3], into: %{}, do: {k, v}"
   ]
  },
  {
   "cell_type": "markdown",
   "metadata": {},
   "source": [
    "# Strings"
   ]
  },
  {
   "cell_type": "code",
   "execution_count": 21,
   "metadata": {},
   "outputs": [
    {
     "name": "stdout",
     "output_type": "stream",
     "text": [
      "<<104, 101, 108, 108, 111, 0>>\n",
      "[104, 101, 322, 322, 111]\n",
      "á\n"
     ]
    },
    {
     "data": {
      "text/plain": [
       "true"
      ]
     },
     "execution_count": 21,
     "metadata": {},
     "output_type": "execute_result"
    }
   ],
   "source": [
    "# string is binary\n",
    "string = <<104,101,108,108,111>>\n",
    "IO.inspect string <> <<0>>\n",
    "\n",
    "# char list is list\n",
    "IO.inspect 'hełło'\n",
    "_ = ?Z\n",
    "\n",
    "string = \"\\u0061\\u0301\"\n",
    "IO.puts string\n",
    "\n",
    "# string functions\n",
    "defmodule Anagram do\n",
    "  def anagrams?(a, b) when is_binary(a) and is_binary(b) do\n",
    "    sort_string(a) == sort_string(b)\n",
    "  end\n",
    "\n",
    "  def sort_string(string) do\n",
    "    string\n",
    "    |> String.downcase()\n",
    "    |> String.graphemes()\n",
    "    |> Enum.sort()\n",
    "  end\n",
    "end\n",
    "Anagram.anagrams?(\"Hello\", \"ohell\")"
   ]
  },
  {
   "cell_type": "markdown",
   "metadata": {},
   "source": [
    "# Date and Time"
   ]
  },
  {
   "cell_type": "code",
   "execution_count": 24,
   "metadata": {},
   "outputs": [
    {
     "data": {
      "text/plain": [
       "~N[2020-08-01 12:29:58.571515]"
      ]
     },
     "execution_count": 24,
     "metadata": {},
     "output_type": "execute_result"
    }
   ],
   "source": [
    "Time.utc_now\n",
    "Date.utc_today\n",
    "NaiveDateTime.utc_now"
   ]
  },
  {
   "cell_type": "markdown",
   "metadata": {},
   "source": [
    "# Mix"
   ]
  },
  {
   "cell_type": "code",
   "execution_count": null,
   "metadata": {},
   "outputs": [],
   "source": [
    "# hello/lib/mix/tasks/hello.ex\n",
    "defmodule Mix.Tasks.Hello do\n",
    "  use Mix.Task\n",
    "\n",
    "  @shortdoc \"Simply calls the Hello.say/0 function.\"\n",
    "  def run(_) do\n",
    "    # calling our Hello.say() function from earlier\n",
    "    Hello.say()\n",
    "  end\n",
    "end\n",
    "\n",
    "defmodule Mix.Tasks.Hello do\n",
    "  use Mix.Task\n",
    "\n",
    "  @shortdoc \"Simply calls the Hello.say/0 function.\"\n",
    "  def run(_) do\n",
    "    # This will start our application\n",
    "    Mix.Task.run(\"app.start\")\n",
    "\n",
    "    Hello.say()\n",
    "  end\n",
    "end\n"
   ]
  },
  {
   "cell_type": "markdown",
   "metadata": {},
   "source": [
    "# IEx Helpers"
   ]
  },
  {
   "cell_type": "markdown",
   "metadata": {},
   "source": [
    "1. autocomplete\n",
    "2. `.iex.exs`\n",
    "3. `h` help\n",
    "4. `r` recompile\n",
    "5. `t` type"
   ]
  },
  {
   "cell_type": "markdown",
   "metadata": {},
   "source": [
    "# Erlang Interoperability"
   ]
  },
  {
   "cell_type": "code",
   "execution_count": null,
   "metadata": {},
   "outputs": [],
   "source": [
    "# standard library\n",
    "defmodule Example do\n",
    "    def timed(fun, args) do\n",
    "        {time, result} = :timer.tc(fun, args)\n",
    "        IO.puts(\"Time: #{time} us\")\n",
    "        IO.puts(\"Result: #{result}\")\n",
    "    end\n",
    "end\n",
    "\n",
    "Example.timed(fn (n) -> (n * n) * n end, [100])\n",
    "\n",
    "# erlang packages\n",
    "\"\"\"\n",
    "def deps do\n",
    "  [{:png, github: \"yuce/png\"}]\n",
    "end\n",
    "\"\"\"\n",
    "\n",
    "# then you can call use it\n",
    "\n",
    "# png = :png.create(%{:size => {30, 30}, :mode => {:indexed, 8}, :file => file, :palette => palette})"
   ]
  },
  {
   "cell_type": "markdown",
   "metadata": {},
   "source": [
    "Notable differences:\n",
    "\n",
    "1. atoms\n",
    "2. strings, erlang string is charlist\n",
    "3. variables, erlang variable begin with uppercase"
   ]
  },
  {
   "cell_type": "markdown",
   "metadata": {},
   "source": [
    "# Error Handling"
   ]
  },
  {
   "cell_type": "code",
   "execution_count": 29,
   "metadata": {},
   "outputs": [
    {
     "name": "stdout",
     "output_type": "stream",
     "text": [
      "An error occurred: oops\n",
      "The end!\n"
     ]
    },
    {
     "data": {
      "text/plain": [
       "\"exit blocked\""
      ]
     },
     "execution_count": 29,
     "metadata": {},
     "output_type": "execute_result"
    }
   ],
   "source": [
    "# error\n",
    "try do\n",
    "    raise \"oops\"\n",
    "rescue\n",
    "    e in RuntimeError -> IO.puts(\"An error occurred: \" <> e.message)\n",
    "after\n",
    "    IO.puts \"The end!\"\n",
    "end\n",
    "\n",
    "# exit\n",
    "try do\n",
    "    exit \"oh no\"\n",
    "catch\n",
    "    :exit, _ -> \"exit blocked\"\n",
    "end"
   ]
  },
  {
   "cell_type": "markdown",
   "metadata": {},
   "source": [
    "# Executables"
   ]
  },
  {
   "cell_type": "code",
   "execution_count": null,
   "metadata": {},
   "outputs": [],
   "source": [
    "defmodule ExampleApp.CLI do\n",
    "  def main(args \\\\ []) do\n",
    "    args\n",
    "    |> parse_args()\n",
    "    |> response()\n",
    "    |> IO.puts()\n",
    "  end\n",
    "\n",
    "  defp parse_args(args) do\n",
    "    {opts, word, _} =\n",
    "      args\n",
    "      |> OptionParser.parse(switches: [upcase: :boolean])\n",
    "\n",
    "    {opts, List.to_string(word)}\n",
    "  end\n",
    "\n",
    "  defp response({opts, word}) do\n",
    "    if opts[:upcase], do: String.upcase(word), else: word\n",
    "  end\n",
    "end\n",
    "\n",
    "# this is Mixfile\n",
    "defmodule ExampleApp.Mixfile do\n",
    "  def project do\n",
    "    [app: :example_app, version: \"0.0.1\", escript: escript()]\n",
    "  end\n",
    "\n",
    "  defp escript do\n",
    "    [main_module: ExampleApp.CLI]\n",
    "  end\n",
    "end"
   ]
  },
  {
   "cell_type": "markdown",
   "metadata": {},
   "source": [
    "# Concurrency"
   ]
  },
  {
   "cell_type": "code",
   "execution_count": null,
   "metadata": {},
   "outputs": [],
   "source": [
    "# process\n",
    "defmodule Example do\n",
    "  def add(a, b) do\n",
    "    IO.puts(a + b)\n",
    "  end\n",
    "end\n",
    "spawn(Example, :add, [2, 3])\n",
    "\n",
    "# message\n",
    "defmodule Example do\n",
    "  def listen do\n",
    "    receive do\n",
    "      {:ok, \"hello\"} -> IO.puts(\"World\")\n",
    "    end\n",
    "\n",
    "    listen()\n",
    "  end\n",
    "end\n",
    "pid = spawn(Example, :listen, [])\n",
    "send pid, {:ok, \"hello\"}\n",
    "\n",
    "# process link\n",
    "defmodule Example do\n",
    "  def explode, do: exit(:kaboom)\n",
    "\n",
    "  def run do\n",
    "    Process.flag(:trap_exit, true)\n",
    "    spawn_link(Example, :explode, [])\n",
    "\n",
    "    receive do\n",
    "      {:EXIT, _from_pid, reason} -> IO.puts(\"Exit reason: #{reason}\")\n",
    "    end\n",
    "  end\n",
    "end\n",
    "\n",
    "# monitoring process\n",
    "defmodule Example do\n",
    "  def explode, do: exit(:kaboom)\n",
    "\n",
    "  def run do\n",
    "    spawn_monitor(Example, :explode, [])\n",
    "\n",
    "    receive do\n",
    "      {:DOWN, _ref, :process, _from_pid, reason} -> IO.puts(\"Exit reason: #{reason}\")\n",
    "    end\n",
    "  end\n",
    "end\n",
    "\n",
    "# agent to keep process state\n",
    "{:ok, agent} = Agent.start_link(fn -> [1, 2, 3] end)\n",
    "Agent.update(agent, fn (state) -> state ++ [4, 5] end)\n",
    "Agent.get(agent, &(&1))\n",
    "\n",
    "# task\n",
    "defmodule Example do\n",
    "  def double(x) do\n",
    "    :timer.sleep(2000)\n",
    "    x * 2\n",
    "  end\n",
    "end\n",
    "task = Task.async(Example, :double, [2000])\n",
    "Task.await(task)"
   ]
  }
 ],
 "metadata": {
  "kernelspec": {
   "display_name": "Elixir",
   "language": "Elixir",
   "name": "ielixir"
  },
  "language_info": {
   "codemirror_mode": "elixir",
   "file_extension": "ex",
   "mimetype": "text/x-elixir",
   "name": "elixir",
   "nbconvert_exporter": "",
   "pygments_lexer": "elixir",
   "version": "1.9.1"
  }
 },
 "nbformat": 4,
 "nbformat_minor": 4
}
