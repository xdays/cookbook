{
 "cells": [
  {
   "cell_type": "markdown",
   "metadata": {},
   "source": [
    "# Basic Type"
   ]
  },
  {
   "cell_type": "code",
   "execution_count": 1,
   "metadata": {},
   "outputs": [
    {
     "data": {
      "text/plain": [
       "\"Hello\""
      ]
     },
     "execution_count": 1,
     "metadata": {},
     "output_type": "execute_result"
    }
   ],
   "source": [
    "# integer\n",
    "i1 = 255\n",
    "i2 = 0b0110\n",
    "i3 = 0x1F\n",
    "# float\n",
    "f1 = 3.14\n",
    "f2 = 0.14\n",
    "f3 = 1.0e-10\n",
    "# bolean\n",
    "b1 = true\n",
    "b2 = false\n",
    "# atom\n",
    ":foo\n",
    ":bar\n",
    "# string\n",
    "s1 = \"Hello\""
   ]
  },
  {
   "cell_type": "code",
   "execution_count": 2,
   "metadata": {},
   "outputs": [
    {
     "name": "stdout",
     "output_type": "stream",
     "text": [
      "hello Sean\n",
      "hello Sean\n"
     ]
    },
    {
     "data": {
      "text/plain": [
       ":ok"
      ]
     },
     "execution_count": 2,
     "metadata": {},
     "output_type": "execute_result"
    }
   ],
   "source": [
    "# operator\n",
    "# + - * /\n",
    "# div/2 and rem/2\n",
    "# || && !\n",
    "# == != === !== <= >= < >\n",
    "# number < atom < reference < function < port < pid < tuple < map < list < bitstring\n",
    "name = \"Sean\"\n",
    "IO.puts \"hello #{name}\"\n",
    "IO.puts \"hello \" <> name"
   ]
  },
  {
   "cell_type": "markdown",
   "metadata": {},
   "source": [
    "# Collection"
   ]
  },
  {
   "cell_type": "code",
   "execution_count": 3,
   "metadata": {},
   "outputs": [
    {
     "name": "stdout",
     "output_type": "stream",
     "text": [
      "1\n",
      "true\n",
      "bar\n",
      "bar\n",
      "true\n"
     ]
    },
    {
     "data": {
      "text/plain": [
       "%{:foo => \"bar\", :test => \"baz\", \"hello\" => :world}"
      ]
     },
     "execution_count": 3,
     "metadata": {},
     "output_type": "execute_result"
    }
   ],
   "source": [
    "# list\n",
    "list1 = [3.14, :pie, \"apple\"]\n",
    "list2 = [\"p\" | list1]\n",
    "list3 = [1, 2] ++ [3, 4]\n",
    "hd [1, 2, 3]\n",
    "tl [1, 2, 3]\n",
    "[head | tail] = [1, 2, 3]\n",
    "IO.puts head\n",
    "\n",
    "# tuple\n",
    "t1 = {3.14, :pie}\n",
    "File.read(\"/tmp/noexist\")\n",
    "\n",
    "# keyword list\n",
    "kl1 = [foo: \"bar\", hello: \"world\"]\n",
    "kl2 = [{:foo, \"bar\"}, {:hello, \"world\"}]\n",
    "IO.puts kl1 === kl2\n",
    "\n",
    "# map\n",
    "map = %{:foo => \"bar\", \"hello\" => :world}\n",
    "IO.puts map[:foo]\n",
    "IO.puts map.foo\n",
    "IO.puts %{foo: \"bar\", hello: \"world\"} == %{:foo => \"bar\", :hello => \"world\"}\n",
    "Map.put(map, :test, \"baz\")"
   ]
  },
  {
   "cell_type": "markdown",
   "metadata": {},
   "source": [
    "# Pattern Match"
   ]
  },
  {
   "cell_type": "code",
   "execution_count": 4,
   "metadata": {},
   "outputs": [
    {
     "name": "stdout",
     "output_type": "stream",
     "text": [
      "\u0002\u0003\n",
      "2\n"
     ]
    },
    {
     "data": {
      "text/plain": [
       ":ok"
      ]
     },
     "execution_count": 4,
     "metadata": {},
     "output_type": "execute_result"
    }
   ],
   "source": [
    "# basic match\n",
    "list = [1,2,3]\n",
    "[1,2,3] = list\n",
    "[1 | tail] = list\n",
    "IO.puts tail\n",
    "\n",
    "# pin match\n",
    "x = 1\n",
    "{x, ^x} = {2, 1}\n",
    "IO.puts x"
   ]
  },
  {
   "cell_type": "markdown",
   "metadata": {},
   "source": [
    "# Control"
   ]
  },
  {
   "cell_type": "code",
   "execution_count": 5,
   "metadata": {},
   "outputs": [
    {
     "data": {
      "text/plain": [
       "\"This is true\""
      ]
     },
     "execution_count": 5,
     "metadata": {},
     "output_type": "execute_result"
    }
   ],
   "source": [
    "if String.valid?(\"Hello\") do\n",
    "  \"Valid string\"\n",
    "else\n",
    "  \"Invalid string\"\n",
    "end\n",
    "\n",
    "unless is_integer(\"hello\") do\n",
    "  \"Not an Int\"\n",
    "end\n",
    "\n",
    "case {:ok, \"hello world\"} do\n",
    "  {:ok, result} -> result\n",
    "  {:error} -> \"Uh oh!\"\n",
    "  _ -> \"Catch all\"\n",
    "end\n",
    "\n",
    "case {1, 2, 3} do\n",
    "  {1, x, 3} when x > 0 -> # guard\n",
    "    \"Will match\"\n",
    "  _ ->\n",
    "    \"Won't match\"\n",
    "end\n",
    "\n",
    "cond do\n",
    "  1 + 1 == 3 ->\n",
    "    \"This will not be true\"\n",
    "  1 + 1 == 2 ->\n",
    "    \"This is true\"\n",
    "end"
   ]
  },
  {
   "cell_type": "markdown",
   "metadata": {},
   "source": [
    "# Function"
   ]
  },
  {
   "cell_type": "code",
   "execution_count": 6,
   "metadata": {},
   "outputs": [
    {
     "name": "stdout",
     "output_type": "stream",
     "text": [
      "Handling result 1\n"
     ]
    },
    {
     "data": {
      "text/plain": [
       "\"hello, Sean, Steve\""
      ]
     },
     "execution_count": 6,
     "metadata": {},
     "output_type": "execute_result"
    }
   ],
   "source": [
    "sum = fn (a, b) -> a + b end\n",
    "sum.(2, 3)\n",
    "\n",
    "sum = &(&1 + &2)\n",
    "sum.(2, 3)\n",
    "\n",
    "handler = fn\n",
    "  {:ok, result} -> IO.puts \"Handling result #{result}\"\n",
    "  {:ok, _} -> IO.puts \"Never match\"\n",
    "  {:error} -> IO.puts \"Error happens\"\n",
    "end\n",
    "\n",
    "handler.({:ok, 1})\n",
    "\n",
    "defmodule Greeter do\n",
    "  def hello(names) when is_list(names) do\n",
    "    names |> Enum.join(\", \") |> hello\n",
    "  end\n",
    "\n",
    "  def hello(name) when is_binary(name) do\n",
    "    phrase() <> name\n",
    "  end\n",
    "  \n",
    "  defp phrase, do: \"hello, \"\n",
    "end\n",
    "Greeter.hello [\"Sean\", \"Steve\"]\n",
    "\n",
    "## \\\\ default parameter"
   ]
  },
  {
   "cell_type": "code",
   "execution_count": 7,
   "metadata": {},
   "outputs": [
    {
     "data": {
      "text/plain": [
       "nil"
      ]
     },
     "execution_count": 7,
     "metadata": {},
     "output_type": "execute_result"
    }
   ],
   "source": [
    "# Pipe Operator"
   ]
  },
  {
   "cell_type": "code",
   "execution_count": 8,
   "metadata": {},
   "outputs": [
    {
     "data": {
      "text/plain": [
       "[\"ELIXIR\", \"ROCKS\"]"
      ]
     },
     "execution_count": 8,
     "metadata": {},
     "output_type": "execute_result"
    }
   ],
   "source": [
    "\"Elixir rocks\" |> String.upcase() |> String.split()"
   ]
  },
  {
   "cell_type": "markdown",
   "metadata": {},
   "source": [
    "# Module"
   ]
  },
  {
   "cell_type": "code",
   "execution_count": 9,
   "metadata": {},
   "outputs": [
    {
     "data": {
      "text/plain": [
       "\"Hello xdays.\""
      ]
     },
     "execution_count": 9,
     "metadata": {},
     "output_type": "execute_result"
    }
   ],
   "source": [
    "defmodule Example1 do\n",
    "  def greeting(name) do\n",
    "    \"Hello #{name}.\"\n",
    "  end\n",
    "end\n",
    "Example1.greeting \"xdays\""
   ]
  },
  {
   "cell_type": "code",
   "execution_count": 10,
   "metadata": {},
   "outputs": [
    {
     "data": {
      "text/plain": [
       "\"Hello xdays.\""
      ]
     },
     "execution_count": 10,
     "metadata": {},
     "output_type": "execute_result"
    }
   ],
   "source": [
    "defmodule Example2 do\n",
    "  @greeting \"Hello\"\n",
    "\n",
    "  def greeting(name) do\n",
    "    ~s(#{@greeting} #{name}.)\n",
    "  end\n",
    "end\n",
    "Example2.greeting \"xdays\""
   ]
  },
  {
   "cell_type": "code",
   "execution_count": 11,
   "metadata": {},
   "outputs": [
    {
     "data": {
      "text/plain": [
       "{:module, Example3.User, <<70, 79, 82, 49, 0, 0, 6, 36, 66, 69, 65, 77, 65, 116, 85, 56, 0, 0, 0, 190, 0, 0, 0, 18, 20, 69, 108, 105, 120, 105, 114, 46, 69, 120, 97, 109, 112, 108, 101, 51, 46, 85, 115, 101, 114, 8, 95, ...>>, %Example3.User{name: \"Sean\", roles: []}}"
      ]
     },
     "execution_count": 11,
     "metadata": {},
     "output_type": "execute_result"
    }
   ],
   "source": [
    "# Structure\n",
    "defmodule Example3.User do\n",
    "  defstruct name: \"Sean\", roles: []\n",
    "end"
   ]
  },
  {
   "cell_type": "code",
   "execution_count": 12,
   "metadata": {},
   "outputs": [
    {
     "data": {
      "text/plain": [
       "\"%Example3.User{name: \\\"Steve\\\", roles: []}\""
      ]
     },
     "execution_count": 12,
     "metadata": {},
     "output_type": "execute_result"
    }
   ],
   "source": [
    "user1 = %Example3.User{}\n",
    "user2 = %Example3.User{name: \"Steve\"}\n",
    "\n",
    "inspect(user2)"
   ]
  },
  {
   "cell_type": "code",
   "execution_count": 13,
   "metadata": {},
   "outputs": [
    {
     "data": {
      "text/plain": [
       "{:module, Example5, <<70, 79, 82, 49, 0, 0, 4, 148, 66, 69, 65, 77, 65, 116, 85, 56, 0, 0, 0, 162, 0, 0, 0, 15, 15, 69, 108, 105, 120, 105, 114, 46, 69, 120, 97, 109, 112, 108, 101, 53, 8, 95, 95, 105, 110, 102, 111, ...>>, {:greeting, 1}}"
      ]
     },
     "execution_count": 13,
     "metadata": {},
     "output_type": "execute_result"
    }
   ],
   "source": [
    "# Composition\n",
    "defmodule Sayings.Greetings do\n",
    "  def basic(name), do: \"Hi, #{name}\"\n",
    "end\n",
    "\n",
    "defmodule Example4 do\n",
    "  alias Sayings.Greetings\n",
    "\n",
    "  def greeting(name), do: Greetings.basic(name)\n",
    "end\n",
    "\n",
    "# Without alias\n",
    "\n",
    "defmodule Example5 do\n",
    "  def greeting(name), do: Sayings.Greetings.basic(name)\n",
    "end"
   ]
  },
  {
   "cell_type": "code",
   "execution_count": 14,
   "metadata": {},
   "outputs": [
    {
     "data": {
      "text/plain": [
       "2"
      ]
     },
     "execution_count": 14,
     "metadata": {},
     "output_type": "execute_result"
    }
   ],
   "source": [
    "import List\n",
    "last([1,2])"
   ]
  },
  {
   "cell_type": "markdown",
   "metadata": {},
   "source": [
    "# Sigil"
   ]
  },
  {
   "cell_type": "code",
   "execution_count": 20,
   "metadata": {},
   "outputs": [
    {
     "name": "stdout",
     "output_type": "stream",
     "text": [
      "a\n",
      "b\n",
      "a\n",
      "b\n",
      "[\"\\\"I\", \"am\", \"a\", \"poor\", \"man\\\"\"]\n"
     ]
    },
    {
     "data": {
      "text/plain": [
       "[\"\\\"I\", \"am\", \"a\", \"poor\", \"man\\\"\"]"
      ]
     },
     "execution_count": 20,
     "metadata": {},
     "output_type": "execute_result"
    }
   ],
   "source": [
    "# char list\n",
    "IO.puts ~c{a\\nb}\n",
    "# string\n",
    "IO.puts ~s{a\\nb}\n",
    "IO.inspect ~w{\"I am a poor man\"}"
   ]
  }
 ],
 "metadata": {
  "kernelspec": {
   "display_name": "Elixir",
   "language": "Elixir",
   "name": "ielixir"
  },
  "language_info": {
   "codemirror_mode": "elixir",
   "file_extension": "ex",
   "mimetype": "text/x-elixir",
   "name": "elixir",
   "nbconvert_exporter": "",
   "pygments_lexer": "elixir",
   "version": "1.9.1"
  }
 },
 "nbformat": 4,
 "nbformat_minor": 4
}
