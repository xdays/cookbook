{
  "cells": [
    {
      "cell_type": "markdown",
      "source": [
        "# Request Lifecycle in Phoenix\n",
        "\n",
        "1. endpoint, initial plug path that all request go through, plug is piece of process over every request, endpoint itself is plug.\n",
        "2. router, last plug in endpoint, that dispatching verb/path to controllers\n",
        "3. controller, retrieve rquest information, talk with business domain, and prepare data for view layer, controller itself is plug too.\n",
        "4. view, handle structured data from controller and conver to a presentation for user"
      ],
      "metadata": {
        "nteract": {
          "transient": {
            "deleting": false
          }
        }
      }
    },
    {
      "cell_type": "markdown",
      "source": [
        "# What to do when adding a Page\n",
        "\n",
        "## Controller Action\n",
        "\n",
        "```\n",
        "def action(conn, params) do\n",
        "  render(conn, \"action.html\", map)\n",
        "end\n",
        "```\n",
        "\n",
        "## View(if required)\n",
        "\n",
        "```\n",
        "defmodule DemoWeb.HelloView do\n",
        "  use DemoWeb, :view\n",
        "end\n",
        "```\n",
        "\n",
        "connect controller action and template\n",
        "\n",
        "## Template\n",
        "\n",
        "```\n",
        "<div class=\"phx-hero\">\n",
        "  <h2>Hello World, from <%= @messenger %>!</h2>\n",
        "</div>\n",
        "```\n"
      ],
      "metadata": {
        "nteract": {
          "transient": {
            "deleting": false
          }
        }
      }
    },
    {
      "cell_type": "markdown",
      "source": [
        "# Plug\n",
        "\n",
        "The basic idea of plug is to unify the concept of a \"connection\" that we operate on.\n",
        "\n",
        "Flavors:\n",
        "\n",
        "1. function plugs\n",
        "2. module plugs\n",
        "\n",
        "## Function Plugs\n",
        "\n",
        "```\n",
        "def introspect(conn, _opts) do\n",
        "  IO.puts \"\"\"\n",
        "  Verb: #{inpsect()conn.method}\n",
        "  Host: #{inspect(conn.host}\n",
        "  Headers: #{inspect(conn.req_headers)}\n",
        "  \"\"\"\n",
        "  \n",
        "  conn\n",
        "end\n",
        "```\n",
        "\n",
        "1. accept a connection struct(`%Plug.Conn{}`) and options\n",
        "2. return connection\n",
        "\n",
        "## Module Plugs\n",
        "\n",
        "```\n",
        "defmodule HelloWeb.Plugs.Locale do\n",
        "  import Plug.Conn\n",
        "\n",
        "  @locales [\"en\", \"fr\", \"de\"]\n",
        "\n",
        "  def init(default), do: default\n",
        "\n",
        "  def call(%Plug.Conn{params: %{\"locale\" => loc}} = conn, _default) when loc in @locales do\n",
        "    assign(conn, :locale, loc)\n",
        "  end\n",
        "\n",
        "  def call(conn, default) do\n",
        "    assign(conn, :locale, default)\n",
        "  end\n",
        "end\n",
        "```\n",
        "\n",
        "1. `init/1` which initialize any arguments or options to be passed to `call/2`\n",
        "2. `call/2` which carries out the conneciton transformation. `call/2` is just a function plug\n",
        "\n",
        "## Where to plug\n",
        "\n",
        "The endpoint, router and contoller in Phoenix accept plugs."
      ],
      "metadata": {
        "nteract": {
          "transient": {
            "deleting": false
          }
        }
      }
    },
    {
      "cell_type": "markdown",
      "source": [
        "# Routing\n",
        "\n",
        "## Resources\n",
        "\n",
        "shortcut to generate restful route\n",
        "\n",
        "## Path Helpers\n",
        "\n",
        "```\n",
        "HelloWeb.Router.Helpers.page_path(HelloWeb.Endpoint, :index)\n",
        "```\n",
        "\n",
        "## Scoped Routes\n",
        "\n",
        "```\n",
        "scope \"/admin\", HelloWeb.Admin as: :admin do\n",
        "  pipe_through :browser\n",
        "  \n",
        "  resources \"/reviews\", ReviewController\n",
        "end\n",
        "```\n",
        "\n",
        "## Pipelines\n",
        "\n",
        "1. group group of plug\n",
        "2. pipline itself is also a plug, so you can embed pipeline in other pipeline."
      ],
      "metadata": {
        "nteract": {
          "transient": {
            "deleting": false
          }
        }
      }
    },
    {
      "cell_type": "markdown",
      "source": [
        "# Controller\n",
        "\n",
        "1. Itermediary modules, function defined in it is action\n",
        "2. Build on plug package\n",
        "\n",
        "## Actions\n",
        "\n",
        "Nameing conversion:\n",
        "\n",
        "1. `index`\n",
        "2. `show`\n",
        "3. `new`, for rendering empty form\n",
        "4. `create`, for create new item\n",
        "5. `edit`, for rendering form with item data\n",
        "6. `update`\n",
        "7. `delete`\n",
        "\n",
        "Parameters:\n",
        "1. `conn`\n",
        "2. `params`\n",
        "\n",
        "## Rendering\n",
        "\n",
        "1. `text`\n",
        "2. `json`\n",
        "3. `html`\n",
        "4. `render`\n",
        "\n",
        "## Layout\n",
        "\n",
        "Layout is rendered by LayoutView in `layout_view.ex`\n",
        "\n",
        "```\n",
        "def index(conn, _params) do\n",
        "  conn\n",
        "  |> put_layout(\"admin.html\")\n",
        "  |> render(\"index.html\")\n",
        "end\n",
        "```\n",
        "\n",
        "## Overriding Rendering Formats\n",
        "\n",
        "1. Following the template naming convention.\n",
        "2. change action to this\n",
        "\n",
        "```\n",
        "  def index(conn, _params) do\n",
        "    render(conn, :index)\n",
        "  end\n",
        "```\n",
        "\n",
        "3. allow text format from router\n",
        "\n",
        "```\n",
        "plug :accepts, [\"html\", \"text\"]\n",
        "```\n",
        "\n",
        "## Redirection\n",
        "\n",
        "```\n",
        "redirect(conn, external: \"https://elixir-lang.org/\")\n",
        "```\n",
        "\n",
        "## Flash Messagae\n",
        "\n",
        "```\n",
        "    conn\n",
        "    |> put_flash(:info, \"hey welcome!\")\n",
        "    |> redirect(to: Routes.hello_path(conn, :index))\n",
        "\n",
        "```\n",
        "\n",
        "## Action Fallback\n",
        "\n",
        "Define fallback controller\n",
        "\n",
        "```\n",
        "defmodule HelloWeb.MyFallbackController do\n",
        "  use Phoenix.Controller\n",
        "\n",
        "  def call(conn, {:error, :not_found}) do\n",
        "    conn\n",
        "    |> put_status(:not_found)\n",
        "    |> put_view(HelloWeb.ErrorView)\n",
        "    |> render(:\"404\")\n",
        "  end\n",
        "\n",
        "  def call(conn, {:error, :unauthorized}) do\n",
        "    conn\n",
        "    |> put_status(403)\n",
        "    |> put_view(HelloWeb.ErrorView)\n",
        "    |> render(:\"403\")\n",
        "  end\n",
        "end\n",
        "```\n",
        "\n",
        "Use fallback controller in normal controller\n",
        "\n",
        "```\n",
        "action_fallback HelloWeb.MyFallbackController\n",
        "```"
      ],
      "metadata": {
        "nteract": {
          "transient": {
            "deleting": false
          }
        }
      }
    },
    {
      "cell_type": "markdown",
      "source": [
        "# Views and Templates\n",
        "\n",
        "## Rendering Templates\n",
        "\n",
        "Function defined in view can be used from template directly.\n",
        "\n",
        "## Template Compilation\n",
        "\n",
        "When a template is compiled into a view, it's simplely compiled as `render` function that expects two argumanets: the template name and the assgins\n",
        "\n",
        "```\n",
        "defmodule HelloWeb.PageView do\n",
        "  use HelloWeb, :view\n",
        "\n",
        "  def render(\"index.html\", assigns) do\n",
        "    \"rendering with assigns #{inspect Map.keys(assigns)}\"\n",
        "  end\n",
        "end\n",
        "```\n",
        "## Rendering Templates Mannually\n",
        "\n",
        "```\n",
        "Phoenix.View.render_to_string(DemoWeb.PageView, \"test.html\", message: \"Hello from Iex!\")\n",
        "```\n",
        "\n",
        "## Sharing views and templates\n",
        "\n",
        "```\n",
        "<%= render(HelloWeb.PageView, \"test.html\", message: \"Hello from layout!\") %>\n",
        "<%= render(\"test.html\", message: \"Hello from sibling template!\") %>\n",
        "```\n"
      ],
      "metadata": {
        "nteract": {
          "transient": {
            "deleting": false
          }
        }
      }
    },
    {
      "cell_type": "markdown",
      "source": [
        "# Ecto\n",
        "\n",
        "## Schema and Migration Generator\n",
        "\n",
        "```\n",
        "mix phx.gen.schema User users name:string email:string \\\n",
        "bio:string number_of_pets:integer\n",
        "```\n",
        "\n",
        "1. define schema\n",
        "2. define db migration code\n",
        "\n",
        "## Schema\n",
        "\n",
        "Schema is Elixir structs\n",
        "\n",
        "## Changesets and Validations\n",
        "\n",
        "1. `cast/3`\n",
        "2. `validate_required/3`\n",
        "\n",
        "```\n",
        "changeset = User.changeset(%User{}, %{})\n",
        "changeset.valid?\n",
        "changeset.errors\n",
        "```\n",
        "\n",
        "## Data Persistence\n",
        "\n",
        "```\n",
        "alias Hello.{Repo, User}\n",
        "Repo.insert(%User{email: \"user1@example.com\"})\n",
        "Repo.insert(%User{email: \"user2@example.com\"})\n",
        "Repo.all(User)\n",
        "```"
      ],
      "metadata": {
        "nteract": {
          "transient": {
            "deleting": false
          }
        }
      }
    }
  ],
  "metadata": {
    "kernel_info": {
      "name": "ielixir"
    },
    "language_info": {
      "version": "1.9.1",
      "pygments_lexer": "elixir",
      "nbconvert_exporter": "",
      "name": "elixir",
      "mimetype": "text/x-elixir",
      "file_extension": "ex",
      "codemirror_mode": "elixir"
    },
    "kernelspec": {
      "argv": [
        "/Users/xdays/Downloads/elixir/ielixir/start_script.sh",
        "{connection_file}"
      ],
      "display_name": "Elixir",
      "language": "Elixir",
      "name": "ielixir"
    },
    "nteract": {
      "version": "0.24.0"
    }
  },
  "nbformat": 4,
  "nbformat_minor": 0
}