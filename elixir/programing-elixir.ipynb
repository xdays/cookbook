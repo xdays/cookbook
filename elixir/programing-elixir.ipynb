{
 "cells": [
  {
   "cell_type": "markdown",
   "metadata": {},
   "source": [
    "# Pattern Match"
   ]
  },
  {
   "cell_type": "code",
   "execution_count": 1,
   "metadata": {},
   "outputs": [],
   "source": [
    "a = 1\n",
    "1 = a\n",
    "list = [1, 2, 3]\n",
    "[a, b, c] = list\n",
    "IO.puts c\n",
    "[a, _, c] = list\n",
    "# only match once\n",
    "# force match use existing value with ^, can be an existing var"
   ]
  },
  {
   "cell_type": "markdown",
   "metadata": {},
   "source": [
    "# Immutability"
   ]
  },
  {
   "cell_type": "code",
   "execution_count": 2,
   "metadata": {},
   "outputs": [
    {
     "data": {
      "text/plain": [
       "\"Elixir\""
      ]
     },
     "execution_count": 2,
     "metadata": {},
     "output_type": "execute_result"
    }
   ],
   "source": [
    "list1 = [1,2,3]\n",
    "list2 = [4 | list1]\n",
    "name = \"elixir\"\n",
    "String.capitalize name"
   ]
  },
  {
   "cell_type": "markdown",
   "metadata": {},
   "source": [
    "# Basic"
   ]
  },
  {
   "cell_type": "markdown",
   "metadata": {},
   "source": [
    "1. value types\n",
    "    * integers\n",
    "    * floats\n",
    "    * atoms\n",
    "    * ranges\n",
    "    * regular expressions\n",
    "2. system types\n",
    "    * pids and ports\n",
    "    * references\n",
    "3. collection types\n",
    "    * tuple\n",
    "    * list\n",
    "    * maps\n",
    "    * binaries\n",
    "4. functions"
   ]
  },
  {
   "cell_type": "code",
   "execution_count": 17,
   "metadata": {},
   "outputs": [
    {
     "name": "stdout",
     "output_type": "stream",
     "text": [
      "1\n",
      "2.1\n"
     ]
    },
    {
     "data": {
      "text/plain": [
       "\"a\""
      ]
     },
     "execution_count": 17,
     "metadata": {},
     "output_type": "execute_result"
    }
   ],
   "source": [
    "# integer\n",
    "IO.puts 1\n",
    "# float\n",
    "IO.puts 2.1\n",
    "# atom\n",
    ":fred\n",
    ":is_binary?\n",
    "# range\n",
    "1..3\n",
    "# regexp\n",
    "~r{.*}\n",
    "# tuple\n",
    "{1, 2}\n",
    "# list\n",
    "[1,2] ++ [3,4]\n",
    "1 in [1,2]\n",
    "# keyword list\n",
    "[name: \"xdays\", age: 30]\n",
    "# map\n",
    "%{\"ALI\" => \"ALIBABA\", \"QQ\" => \"Tecent\"}\n",
    "map1 = %{:a => \"a\", :b => \"b\"}\n",
    "map1.a\n",
    "# module, record, protocol and behaviour use BummyCase, others underscore between words\n",
    "# with context to define a temp local scope ***\n",
    "# <- graceful pattern match without exception ***"
   ]
  },
  {
   "cell_type": "markdown",
   "metadata": {},
   "source": [
    "# Anonymous Function"
   ]
  },
  {
   "cell_type": "code",
   "execution_count": 4,
   "metadata": {},
   "outputs": [
    {
     "data": {
      "text/plain": [
       "{2, 3}"
      ]
     },
     "execution_count": 4,
     "metadata": {},
     "output_type": "execute_result"
    }
   ],
   "source": [
    "sum = fn (a, b) -> a + b end\n",
    "sum.(1, 2)\n",
    "# closure\n",
    "add_n = fn n -> (fn other -> n + other end) end\n",
    "add_two = add_n.(2)\n",
    "add_five = add_n.(5)\n",
    "add_two.(1)\n",
    "add_five.(2)\n",
    "# & notation, convert followed expression to function\n",
    "divrem = &{ div(&1, &2), rem(&1, &2)}\n",
    "divrem.(13, 5)"
   ]
  },
  {
   "cell_type": "markdown",
   "metadata": {},
   "source": [
    "# Module and Named Function"
   ]
  },
  {
   "cell_type": "code",
   "execution_count": 5,
   "metadata": {},
   "outputs": [
    {
     "data": {
      "text/plain": [
       "6"
      ]
     },
     "execution_count": 5,
     "metadata": {},
     "output_type": "execute_result"
    }
   ],
   "source": [
    "defmodule Factorial do\n",
    "  def of(0), do: 1\n",
    "  def of(n) when n > 0, do: n * of(n-1)\n",
    "end\n",
    "Factorial.of(3)"
   ]
  },
  {
   "cell_type": "code",
   "execution_count": 6,
   "metadata": {},
   "outputs": [
    {
     "name": "stdout",
     "output_type": "stream",
     "text": [
      "[\"a\", 2, 3, \"b\"]\n"
     ]
    },
    {
     "data": {
      "text/plain": [
       "[\"a\", 2, 3, \"b\"]"
      ]
     },
     "execution_count": 6,
     "metadata": {},
     "output_type": "execute_result"
    }
   ],
   "source": [
    "# default parameter \\\\\n",
    "defmodule Example do\n",
    "  def func(p1, p2 \\\\ 2, p3 \\\\ 3, p4) do\n",
    "    IO.inspect [p1, p2, p3, p4]\n",
    "    end\n",
    "end\n",
    "Example.func(\"a\", \"b\")"
   ]
  },
  {
   "cell_type": "code",
   "execution_count": 7,
   "metadata": {},
   "outputs": [
    {
     "name": "stdout",
     "output_type": "stream",
     "text": [
      "The number is 5.7\n"
     ]
    },
    {
     "data": {
      "text/plain": [
       ":ok"
      ]
     },
     "execution_count": 7,
     "metadata": {},
     "output_type": "execute_result"
    }
   ],
   "source": [
    "(1..10) |> Enum.map(&(&1*&1)) |> Enum.filter(&(&1 < 40))\n",
    ":io.format(\"The number is ~3.1f~n\", [5.678])"
   ]
  },
  {
   "cell_type": "markdown",
   "metadata": {},
   "source": [
    "# List and Recursion"
   ]
  },
  {
   "cell_type": "code",
   "execution_count": 8,
   "metadata": {},
   "outputs": [
    {
     "name": "stdout",
     "output_type": "stream",
     "text": [
      "[2, 3]\n"
     ]
    },
    {
     "data": {
      "text/plain": [
       "[1, 4, 9, 16]"
      ]
     },
     "execution_count": 8,
     "metadata": {},
     "output_type": "execute_result"
    }
   ],
   "source": [
    "[a | b] = [1, 2, 3]\n",
    "IO.inspect b\n",
    "Enum.map [1,2,3,4], &(&1*&1)"
   ]
  },
  {
   "cell_type": "code",
   "execution_count": 9,
   "metadata": {},
   "outputs": [
    {
     "data": {
      "text/plain": [
       "6"
      ]
     },
     "execution_count": 9,
     "metadata": {},
     "output_type": "execute_result"
    }
   ],
   "source": [
    "defmodule MyList do\n",
    "  def map([], _), do: []\n",
    "  def map([head | tail], func), do: [func.(head) | map(tail, func)]\n",
    "  \n",
    "  def reduce([], value, _), do: value\n",
    "  def reduce([head | tail], value, func), do: reduce(tail, func.(head, value), func)\n",
    "end\n",
    "\n",
    "MyList.map [1,2,3], &(&1*&1)\n",
    "MyList.reduce [1,2,3], 0, &(&1+&2)"
   ]
  },
  {
   "cell_type": "code",
   "execution_count": 10,
   "metadata": {},
   "outputs": [
    {
     "data": {
      "text/plain": [
       "[1, [3]]"
      ]
     },
     "execution_count": 10,
     "metadata": {},
     "output_type": "execute_result"
    }
   ],
   "source": [
    "List.flatten([[[1]]], [[3]])"
   ]
  },
  {
   "cell_type": "markdown",
   "metadata": {},
   "source": [
    "# Maps, Keyword Lists, Sets and Structs"
   ]
  },
  {
   "cell_type": "code",
   "execution_count": 11,
   "metadata": {},
   "outputs": [
    {
     "name": "stdout",
     "output_type": "stream",
     "text": [
      "%{likes: \"programing\", name: \"xdays\", where: \"beijing\"}\n",
      "\"xdays\"\n"
     ]
    },
    {
     "data": {
      "text/plain": [
       "%{height: 176, name: \"xdays\"}"
      ]
     },
     "execution_count": 11,
     "metadata": {},
     "output_type": "execute_result"
    }
   ],
   "source": [
    "kw_list = [name: \"xdays\", likes: \"programing\", where: \"beijing\"]\n",
    "map = Enum.into kw_list, Map.new\n",
    "IO.inspect map\n",
    "\n",
    "person = %{ name: \"xdays\", height: 176 }\n",
    "%{ name: a_name } = person\n",
    "IO.inspect a_name\n",
    "%{name: _, height: _} = person"
   ]
  },
  {
   "cell_type": "code",
   "execution_count": 12,
   "metadata": {},
   "outputs": [
    {
     "name": "stdout",
     "output_type": "stream",
     "text": [
      "[%{height: 1.88, name: \"Dave\"}, %{height: 2.16, name: \"Shaquille\"}]\n",
      "Need regular bed for Grumpy\n",
      "Need need low shower control for Dave\n",
      "Need need low shower control for Dopey\n",
      "Need extra-long bed for Shaquille\n",
      "Need regular bed for Sneezy\n"
     ]
    },
    {
     "data": {
      "text/plain": [
       ":ok"
      ]
     },
     "execution_count": 12,
     "metadata": {},
     "output_type": "execute_result"
    }
   ],
   "source": [
    "# pattern matching\n",
    "people = [\n",
    "%{ name: \"Grumpy\", height: 1.24 },\n",
    "%{ name: \"Dave\", height: 1.88 },\n",
    "%{ name: \"Dopey\", height: 1.32 },\n",
    "%{ name: \"Shaquille\", height: 2.16 },\n",
    "%{ name: \"Sneezy\", height: 1.28 }\n",
    "]\n",
    "IO.inspect(for person = %{ height: height } <- people, height > 1.5, do: person)\n",
    "\n",
    "defmodule HotelRoom do\n",
    "  def book(%{name: name, height: height})\n",
    "  when height > 1.9 do\n",
    "    IO.puts \"Need extra-long bed for #{name}\"\n",
    "    end\n",
    "\n",
    "  def book(%{name: name, height: height})\n",
    "  when height > 1.3 do\n",
    "    IO.puts \"Need need low shower control for #{name}\"\n",
    "    end\n",
    "\n",
    "  def book(person) do\n",
    "    IO.puts \"Need regular bed for #{person.name}\"\n",
    "    end\n",
    "end\n",
    "people |> Enum.each(&HotelRoom.book/1)\n",
    "\n",
    "# can't bind key, only value\n",
    "# patten matching can match variable keys"
   ]
  },
  {
   "cell_type": "code",
   "execution_count": 13,
   "metadata": {},
   "outputs": [
    {
     "data": {
      "text/plain": [
       "%{a: 1, b: 2, c: 4}"
      ]
     },
     "execution_count": 13,
     "metadata": {},
     "output_type": "execute_result"
    }
   ],
   "source": [
    "# update map\n",
    "m = %{a: 1, b: 2, c: 3}\n",
    "m1 = %{m | c: 4}"
   ]
  },
  {
   "cell_type": "code",
   "execution_count": 14,
   "metadata": {},
   "outputs": [
    {
     "data": {
      "text/plain": [
       "{:module, Subscriber, <<70, 79, 82, 49, 0, 0, 6, 48, 66, 69, 65, 77, 65, 116, 85, 56, 0, 0, 0, 187, 0, 0, 0, 18, 17, 69, 108, 105, 120, 105, 114, 46, 83, 117, 98, 115, 99, 114, 105, 98, 101, 114, 8, 95, 95, 105, 110, ...>>, %Subscriber{name: \"\", over_18: true, paid: false}}"
      ]
     },
     "execution_count": 14,
     "metadata": {},
     "output_type": "execute_result"
    }
   ],
   "source": [
    "# struct\n",
    "defmodule Subscriber do\n",
    "  defstruct name: \"\", paid: false, over_18: true\n",
    "end"
   ]
  },
  {
   "cell_type": "code",
   "execution_count": 18,
   "metadata": {},
   "outputs": [
    {
     "data": {
      "text/plain": [
       "%Subscriber{name: \"xdays\", over_18: true, paid: true}"
      ]
     },
     "execution_count": 18,
     "metadata": {},
     "output_type": "execute_result"
    }
   ],
   "source": [
    "s1 = %Subscriber{}\n",
    "s2 = %Subscriber{ name: \"Dave\"}\n",
    "s3 = %Subscriber{ name: \"xdays\", paid: true}"
   ]
  },
  {
   "cell_type": "markdown",
   "metadata": {},
   "source": [
    "# Enum and Stream"
   ]
  },
  {
   "cell_type": "code",
   "execution_count": null,
   "metadata": {},
   "outputs": [],
   "source": []
  }
 ],
 "metadata": {
  "kernelspec": {
   "display_name": "Elixir",
   "language": "Elixir",
   "name": "ielixir"
  },
  "language_info": {
   "codemirror_mode": "elixir",
   "file_extension": "ex",
   "mimetype": "text/x-elixir",
   "name": "elixir",
   "nbconvert_exporter": "",
   "pygments_lexer": "elixir",
   "version": "1.9.1"
  }
 },
 "nbformat": 4,
 "nbformat_minor": 2
}
