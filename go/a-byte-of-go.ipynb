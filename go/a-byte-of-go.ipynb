{
  "cells": [
    {
      "cell_type": "markdown",
      "source": [
        "# Go 安装\n",
        "\n",
        "```\n",
        "brew install golang\n",
        "go env -w GOPROXY=https://goproxy.cn,direct\n",
        "```"
      ],
      "metadata": {}
    },
    {
      "cell_type": "code",
      "source": [
        "// Hello World\n",
        "import \"fmt\"\n",
        "\n",
        "func hello() {\n",
        "\tfmt.Println(\"Hello World!\")\n",
        "}\n",
        "hello()"
      ],
      "outputs": [
        {
          "output_type": "stream",
          "name": "stdout",
          "text": [
            "Hello World!\n"
          ]
        }
      ],
      "execution_count": 1,
      "metadata": {}
    },
    {
      "cell_type": "markdown",
      "source": [
        "# 变量和内置数据类型"
      ],
      "metadata": {}
    },
    {
      "cell_type": "code",
      "source": [
        "// 变量需要先声明\n",
        "\n",
        "var a int\n",
        "a = 1\n",
        "var a int = 1\n",
        "b := 1\n",
        "msg := \"Hello World!\""
      ],
      "outputs": [],
      "execution_count": null,
      "metadata": {}
    },
    {
      "cell_type": "code",
      "source": [
        "/* 简单类型\n",
        "\n",
        "空值：nil\n",
        "整型类型： int(取决于操作系统), int8, int16, int32(rune), int64, uint8(byte), uint16, unit32, uint64, int(uint, uint32, uint64)\n",
        "浮点数类型：float32, float64\n",
        "字节类型：byte (等价于uint8)\n",
        "字符串类型：string\n",
        "布尔值类型：boolean，(true 或 false)\n",
        "\n",
        "*/"
      ],
      "outputs": [],
      "execution_count": null,
      "metadata": {}
    },
    {
      "cell_type": "code",
      "source": [
        "var a int8 = 10\n",
        "var c1 byte = 'a'\n",
        "var b float32 = 12.2\n",
        "var msg = \"Hello World\"\n",
        "ok := false"
      ],
      "outputs": [],
      "execution_count": null,
      "metadata": {}
    },
    {
      "cell_type": "code",
      "source": [
        "// 字符串\n",
        "\n",
        "import (\n",
        "\t\"fmt\"\n",
        "\t\"reflect\"\n",
        ")\n",
        "func stringExample() {\n",
        "    str1 := \"Golang\"\n",
        "    str2 := \"Go语言\"\n",
        "    fmt.Println(reflect.TypeOf(str2[2]).Kind()) // uint8\n",
        "    fmt.Println(str1[2], string(str1[2]))       // 108 l\n",
        "    fmt.Printf(\"%d %c\\n\", str2[2], str2[2])     // 232 è\n",
        "    fmt.Println(\"len(str2)：\", len(str2))       // len(str2)： 8\n",
        "    runeArr := []rune(str2) // 要读取unicode的字符需要转成rune\n",
        "    fmt.Println(reflect.TypeOf(runeArr[2]).Kind()) // int32\n",
        "    fmt.Println(runeArr[2], string(runeArr[2]))    // 35821 语\n",
        "    fmt.Println(\"len(runeArr)：\", len(runeArr))    // len(runeArr)： 4\n",
        "}\n",
        "stringExample()"
      ],
      "outputs": [
        {
          "output_type": "stream",
          "name": "stdout",
          "text": [
            "uint8\n",
            "108 l\n",
            "232 è\n",
            "len(str2)： 8\n",
            "int32\n",
            "35821 语\n",
            "len(runeArr)： 4\n"
          ]
        }
      ],
      "execution_count": 2,
      "metadata": {}
    },
    {
      "cell_type": "code",
      "source": [
        "// 数组与切片\n",
        "\n",
        "import \"fmt\"\n",
        "// 数组\n",
        "var arr [5]int     // 一维\n",
        "var arr2 [5][5]int // 二维\n",
        "var arr = [5]int{1, 2, 3, 4, 5}\n",
        "// 或 arr := [5]int{1, 2, 3, 4, 5}\n",
        "\n",
        "arr := [5]int{1, 2, 3, 4, 5}\n",
        "for i := 0; i < len(arr); i++ {\n",
        "\tarr[i] += 100\n",
        "}\n",
        "fmt.Println(arr)  // [101 102 103 104 105]\n",
        "\n",
        "// 切片\n",
        "slice1 := make([]float32, 0) // 长度为0的切片\n",
        "slice2 := make([]float32, 3, 5) // [0 0 0] 长度为3容量为5的切片\n",
        "fmt.Println(len(slice2), cap(slice2)) // 3 5\n",
        "\n",
        "// 添加元素，切片容量可以根据需要自动扩展\n",
        "slice2 = append(slice2, 1, 2, 3, 4) // [0, 0, 0, 1, 2, 3, 4]\n",
        "fmt.Println(len(slice2), cap(slice2)) // 7 12\n",
        "// 子切片 [start, end)\n",
        "sub1 := slice2[3:] // [1 2 3 4]\n",
        "sub2 := slice2[:3] // [0 0 0]\n",
        "sub3 := slice2[1:4] // [0 0 1]\n",
        "// 合并切片\n",
        "combined := append(sub1, sub2...) // [1, 2, 3, 4, 0, 0, 0]"
      ],
      "outputs": [
        {
          "output_type": "stream",
          "name": "stdout",
          "text": [
            "[101 102 103 104 105]\n",
            "3 5\n",
            "7 10\n"
          ]
        }
      ],
      "execution_count": 4,
      "metadata": {}
    },
    {
      "cell_type": "code",
      "source": [
        "// 字典\n",
        "\n",
        "import \"fmt\"\n",
        "// 仅声明\n",
        "m1 := make(map[string]int)\n",
        "// 声明时初始化\n",
        "m2 := map[string]string{\n",
        "\t\"Sam\": \"Male\",\n",
        "\t\"Alice\": \"Female\",\n",
        "}\n",
        "// 赋值/修改\n",
        "m1[\"Tom\"] = 18\n",
        "fmt.Printf(\"%v\", m1)"
      ],
      "outputs": [
        {
          "output_type": "stream",
          "name": "stdout",
          "text": [
            "map[Tom:18]"
          ]
        },
        {
          "output_type": "execute_result",
          "execution_count": 3,
          "data": {
            "text/plain": [
              "11 <nil>"
            ]
          },
          "metadata": {}
        }
      ],
      "execution_count": 3,
      "metadata": {}
    },
    {
      "cell_type": "code",
      "source": [
        "// 指针\n",
        "\n",
        "import \"fmt\"\n",
        "str := \"Golang\"\n",
        "var p *string = &str // p 是指向 str 的指针\n",
        "*p = \"Hello\"\n",
        "fmt.Println(str) // Hello 修改了 p，str 的值也发生了改变\n",
        "\n",
        "func add(num int) {\n",
        "\tnum += 1\n",
        "}\n",
        "\n",
        "func realAdd(num *int) {\n",
        "\t*num += 1\n",
        "}\n",
        "\n",
        "func pointerExample() {\n",
        "\tnum := 100\n",
        "\tadd(num)\n",
        "\tfmt.Println(num)  // 100，num 没有变化\n",
        "\n",
        "\trealAdd(&num)\n",
        "\tfmt.Println(num)  // 101，指针传递，num 被修改\n",
        "}\n",
        "pointerExample()"
      ],
      "outputs": [
        {
          "output_type": "stream",
          "name": "stdout",
          "text": [
            "Hello\n",
            "100\n",
            "101\n"
          ]
        }
      ],
      "execution_count": 2,
      "metadata": {}
    }
  ],
  "metadata": {
    "kernelspec": {
      "display_name": "Go",
      "language": "go",
      "name": "gophernotes"
    },
    "language_info": {
      "name": "go",
      "version": "go1.13.8",
      "mimetype": "",
      "file_extension": ".go",
      "pygments_lexer": "",
      "codemirror_mode": "",
      "nbconvert_exporter": ""
    },
    "nteract": {
      "version": "0.21.0"
    }
  },
  "nbformat": 4,
  "nbformat_minor": 4
}